{
 "cells": [
  {
   "cell_type": "markdown",
   "metadata": {},
   "source": [
    "# Introducció a K-NN amb Scikit Learn\n",
    "\n",
    "**Autor**: Ramon Mateo Navarro\n",
    "\n",
    "**Assignatura**: Sistemes d'aprenentatge automàtic\n",
    "\n",
    "## Recordar de l'algorisme de k-NN:\n",
    "\n",
    "* Calcula la distància entre el nou punt de dades amb cada exemple d'entrenament.\n",
    "* Per calcular la distància s'utilitzaran mesures com la distància euclidiana, la distància de Hamming o la distància de Manhattan.\n",
    "* El model selecciona K entrades a la base de dades que estan més properes al punt de dades nou.\n",
    "* A continuació, fa el vot majoritari, és a dir, la classe/etiqueta més comuna entre aquestes K entrades serà la classe del nou punt de dades.\n",
    "\n",
    "Per aquesta pràctica tocarà importar els mòduls de Pandas, Numpy, scikit learn. El conjunt de dades que es farà servir és el d'iris dataset que està inclòs en el package de sklearn. Podeu trobar més informació en aquest link: [iris dataset](https://archive.ics.uci.edu/dataset/53/iris)."
   ]
  },
  {
   "cell_type": "markdown",
   "metadata": {},
   "source": [
    "## Imports\n",
    "\n",
    "\n",
    "***Nota**:Sklearn/Scikit-learn son el mateix package*"
   ]
  },
  {
   "cell_type": "code",
   "execution_count": null,
   "metadata": {},
   "outputs": [],
   "source": [
    "from sklearn.datasets import load_iris\n",
    "iris = load_iris()"
   ]
  },
  {
   "cell_type": "markdown",
   "metadata": {},
   "source": [
    "Observem les dades:"
   ]
  },
  {
   "cell_type": "code",
   "execution_count": null,
   "metadata": {},
   "outputs": [],
   "source": [
    "iris.data"
   ]
  },
  {
   "cell_type": "markdown",
   "metadata": {},
   "source": [
    "Podem observar com el conjunt de dades té 4 columnes amb diferents valors cada una.\n",
    "\n",
    "Per saber els noms  i la l'objectiu a predir podem fer: "
   ]
  },
  {
   "cell_type": "code",
   "execution_count": null,
   "metadata": {},
   "outputs": [],
   "source": [
    "print(\"Columnes:\", iris.feature_names)\n",
    "print(\"Categories:\", iris.target_names)"
   ]
  },
  {
   "cell_type": "markdown",
   "metadata": {},
   "source": [
    "Si observem el tipus d'estructura de dades que fan servir veurem que son tot numpy arrays"
   ]
  },
  {
   "cell_type": "code",
   "execution_count": null,
   "metadata": {},
   "outputs": [],
   "source": [
    "print(type(iris.data), type(iris.target))"
   ]
  },
  {
   "cell_type": "markdown",
   "metadata": {},
   "source": [
    "### Plotejem les dades"
   ]
  },
  {
   "cell_type": "code",
   "execution_count": null,
   "metadata": {},
   "outputs": [],
   "source": [
    "import pandas as pd\n",
    "import matplotlib.pyplot as plt\n",
    "import seaborn as sns\n",
    "\n",
    "\n",
    "iris_df = pd.DataFrame(data=iris.data, columns=iris.feature_names)\n",
    "iris_df['target'] = iris.target\n",
    "iris_df['species'] = iris_df['target'].map({0: 'setosa', 1: 'versicolor', 2: 'virginica'})\n",
    "\n",
    "features_df = iris_df.drop(columns=['target'])\n",
    "\n",
    "sns.pairplot(features_df, hue='species', palette='Set1')\n",
    "\n",
    "# Mostra el gràfic.\n",
    "plt.show()"
   ]
  },
  {
   "cell_type": "markdown",
   "metadata": {},
   "source": [
    "### Analitzant la matriu de correlació"
   ]
  },
  {
   "cell_type": "code",
   "execution_count": null,
   "metadata": {},
   "outputs": [],
   "source": [
    "\n",
    "correlation_matrix = features_df.corr()\n",
    "\n",
    "# Crea un mapa de calor per visualitzar la matriu de correlació\n",
    "sns.heatmap(correlation_matrix, annot=True, cmap='coolwarm', linewidths=.5)\n",
    "\n",
    "# Mostra el gràfic\n",
    "plt.show()"
   ]
  },
  {
   "cell_type": "markdown",
   "metadata": {},
   "source": [
    "## Preparació de les dades"
   ]
  },
  {
   "cell_type": "code",
   "execution_count": null,
   "metadata": {},
   "outputs": [],
   "source": [
    "from sklearn.model_selection import train_test_split\n",
    "\n",
    "# separem les dades en train i test\n",
    "\n",
    "X_train, X_test, Y_train, Y_test = train_test_split(iris.data, iris.target, test_size=0.2, random_state=4)\n",
    "\n",
    "# Validem que el shape sigui el correcte i esperat\n",
    "print(X_train.shape, Y_train.shape)\n",
    "print(X_test.shape, Y_test.shape)"
   ]
  },
  {
   "cell_type": "markdown",
   "metadata": {},
   "source": [
    "## Creant el model\n",
    "\n",
    "Ara toca crear el model. No sabem quina serà la k òptima de veïns a seleccionar, per tant, el que es fa és iterar sobre diferents k i analitzar el seu resultat per veure quina és la k òptima."
   ]
  },
  {
   "cell_type": "code",
   "execution_count": null,
   "metadata": {},
   "outputs": [],
   "source": [
    "from sklearn.neighbors import KNeighborsClassifier\n",
    "from sklearn import metrics\n",
    "\n",
    "scores = {}\n",
    "scores_list = []\n",
    "\n",
    "for k in range(1,26):\n",
    "    knn = KNeighborsClassifier(n_neighbors=k)\n",
    "    knn.fit(X_train,Y_train)\n",
    "    y_pred = knn.predict(X_test)\n",
    "    scores[k] = metrics.accuracy_score(Y_test, y_pred)\n",
    "    scores_list.append(metrics.accuracy_score(Y_test, y_pred))\n"
   ]
  },
  {
   "cell_type": "markdown",
   "metadata": {},
   "source": [
    "## Visualització dels models i la seva evolució:"
   ]
  },
  {
   "cell_type": "code",
   "execution_count": null,
   "metadata": {},
   "outputs": [],
   "source": [
    "import matplotlib.pyplot as plt\n",
    "\n",
    "plt.plot(range(1,26), scores_list)\n",
    "plt.xlabel(\"Valor de k\")\n",
    "plt.ylabel(\"Accuracy\")"
   ]
  },
  {
   "cell_type": "markdown",
   "metadata": {},
   "source": [
    "## Exercici de pràctica:\n",
    "\n",
    "Entreneu un model K-nn pel conjunt de dades MNIST. Podeu trobar més informació a [MNIST Sklearn](https://scikit-learn.org/stable/modules/generated/sklearn.datasets.load_digits.html)"
   ]
  },
  {
   "cell_type": "code",
   "execution_count": null,
   "metadata": {},
   "outputs": [],
   "source": [
    "from sklearn import datasets\n",
    "from sklearn.model_selection import train_test_split\n",
    "from sklearn.neighbors import KNeighborsClassifier\n",
    "from sklearn.metrics import accuracy_score\n",
    "\n",
    "# Carrega el conjunt de dades MNIST\n",
    "digits = datasets.load_digits()\n",
    "\n",
    "# Pista, heu de pensar que és una imatge/matriu i per el knn necessitem que sigui un vector . \n",
    "# Per exemple si és l'imatge de 4x4 hem de passar d'una matriu de 4x4 a un únic vector de 16 elements\n"
   ]
  }
 ],
 "metadata": {
  "kernelspec": {
   "display_name": "Python 3",
   "language": "python",
   "name": "python3"
  },
  "language_info": {
   "codemirror_mode": {
    "name": "ipython",
    "version": 3
   },
   "file_extension": ".py",
   "mimetype": "text/x-python",
   "name": "python",
   "nbconvert_exporter": "python",
   "pygments_lexer": "ipython3",
   "version": "3.9.7"
  }
 },
 "nbformat": 4,
 "nbformat_minor": 2
}
