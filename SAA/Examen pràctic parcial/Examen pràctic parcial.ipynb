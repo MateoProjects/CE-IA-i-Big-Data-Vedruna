{
  "cells": [
    {
      "cell_type": "markdown",
      "metadata": {
        "id": "yLpxNY0cgMLO"
      },
      "source": [
        "# Examen pràctic\n",
        "\n",
        "**Nom i cognom**: "
      ]
    },
    {
      "cell_type": "markdown",
      "metadata": {},
      "source": [
        "En aquest exercici heu d'estudiar de forma breu i ràpida un dataset de enfermetats del cor per aplicar el k-NN de forma clara i eficient. \n",
        "\n",
        "Part del codi se us proporciona. "
      ]
    },
    {
      "cell_type": "markdown",
      "metadata": {
        "id": "X0wuYUcdgSVP"
      },
      "source": [
        "## Imports\n",
        "\n",
        "Aquí no estan tots els imports necessaris. Els haureu d'afegir vosaltres també"
      ]
    },
    {
      "cell_type": "code",
      "execution_count": null,
      "metadata": {
        "colab": {
          "base_uri": "https://localhost:8080/"
        },
        "id": "h49EDYF2gGiS",
        "outputId": "0918603c-9227-4b5e-f0a7-10035d2990cc"
      },
      "outputs": [],
      "source": [
        "# afageix el import de numpy, pandas i matplotlib per poder generar gràfics\n",
        "\n",
        "# no tocar aquestes linees\n",
        "import seaborn as sns\n",
        "from tabulate import tabulate\n",
        "from sklearn.impute import KNNImputer\n",
        "from sklearn import metrics\n",
        "\n",
        "#afegir aqui els altres imports"
      ]
    },
    {
      "cell_type": "markdown",
      "metadata": {
        "id": "8O3BfWoRhYf7"
      },
      "source": [
        "## Lectura del csv i anàlisis inicial de les dades"
      ]
    },
    {
      "cell_type": "code",
      "execution_count": null,
      "metadata": {
        "colab": {
          "base_uri": "https://localhost:8080/",
          "height": 226
        },
        "id": "g2dp4TBvhLAj",
        "outputId": "ed702e44-6ec7-4ffd-c9b9-30ae5eea7983"
      },
      "outputs": [],
      "source": [
        "data = pd.read_csv('el teu path')\n",
        "data.head()"
      ]
    },
    {
      "cell_type": "markdown",
      "metadata": {},
      "source": [
        "**Quina creus que és la variable que podem intentar predir**?"
      ]
    },
    {
      "cell_type": "markdown",
      "metadata": {},
      "source": [
        "Escriu aqui la teva resposta"
      ]
    },
    {
      "cell_type": "markdown",
      "metadata": {
        "id": "8AAj3yidvr7M"
      },
      "source": [
        "### Estudio de Missings, valores únicos, máximos y mínimos"
      ]
    },
    {
      "cell_type": "code",
      "execution_count": null,
      "metadata": {
        "colab": {
          "base_uri": "https://localhost:8080/"
        },
        "id": "n8OOVQQbvwxB",
        "outputId": "57e10278-5297-4ae6-98b6-cf0af65f30b6"
      },
      "outputs": [],
      "source": [
        "def missing_inspection(data):\n",
        "\n",
        "  total_values = data.shape[0]\n",
        "\n",
        "  # Calcular el número de valors faltants per cada columna\n",
        "  missing_counts = data.isnull().sum()\n",
        "\n",
        "  # Calcular el percentatge de valors faltants en cada columna\n",
        "  missing_percentage = ((missing_counts / total_values) * 100).round(2)\n",
        "\n",
        "  # Calcular el número de valors únics, màxim i mínim per cada columna individualment\n",
        "  unique_counts = data.nunique()\n",
        "  min_values = data.min()\n",
        "  max_values = data.max()\n",
        "\n",
        "  # Crea una taula combinant ambdues informacions\n",
        "  summary_table = pd.DataFrame({\n",
        "      'Valors Faltants': missing_counts,\n",
        "      '% Faltant': missing_percentage,\n",
        "      'Valors Únics': unique_counts,\n",
        "      'Valor Mínim': min_values,\n",
        "      'Valor Màxim': max_values\n",
        "  })\n",
        "\n",
        "  table_str = tabulate(summary_table, headers='keys', tablefmt='pretty')\n",
        "\n",
        "  # Mostrar la tabla\n",
        "  print(table_str)\n",
        "missing_inspection(data)\n",
        "print(len(data))"
      ]
    },
    {
      "cell_type": "markdown",
      "metadata": {},
      "source": [
        "**Quines valoracions fariau d'aquestes dades?**"
      ]
    },
    {
      "cell_type": "markdown",
      "metadata": {},
      "source": [
        "Aqui la vostra resposta"
      ]
    },
    {
      "cell_type": "markdown",
      "metadata": {
        "id": "XQbbFJdlv0yR"
      },
      "source": [
        "### Distribución de valors\n",
        "\n",
        "Es visualitza com els valors es distribueixen\n"
      ]
    },
    {
      "cell_type": "code",
      "execution_count": null,
      "metadata": {
        "colab": {
          "base_uri": "https://localhost:8080/",
          "height": 685
        },
        "id": "C0dONfD3hgxz",
        "outputId": "8c8693c9-51fc-4e93-87ca-147c98b4533c"
      },
      "outputs": [],
      "source": [
        "fig, axs = plt.subplots(4, 4, figsize=(12, 10))\n",
        "\n",
        "for i, column in enumerate(data.columns[:8]):\n",
        "    unique_val, freq = np.unique(data[column], return_counts=True)\n",
        "    axs[i//4, i%4].bar(unique_val, freq)\n",
        "    axs[i//4, i%4].set_title(column)\n",
        "    axs[i//4, i%4].set_xlabel('Valor único')\n",
        "    axs[i//4, i%4].set_ylabel('Frecuencia')\n",
        "    axs[i//4, i%4].tick_params(axis='x', rotation=45)\n",
        "\n",
        "# Para las últimas 8 columnas\n",
        "for i, column in enumerate(data.columns[8:]):\n",
        "    unique_val, freq = np.unique(data[column], return_counts=True)\n",
        "    axs[(i+8)//4, (i+8)%4].bar(unique_val, freq)\n",
        "    axs[(i+8)//4, (i+8)%4].set_title(column)\n",
        "    axs[(i+8)//4, (i+8)%4].set_xlabel('Valor único')\n",
        "    axs[(i+8)//4, (i+8)%4].set_ylabel('Frecuencia')\n",
        "    axs[(i+8)//4, (i+8)%4].tick_params(axis='x', rotation=45)\n",
        "\n",
        "plt.tight_layout()\n",
        "plt.show()\n"
      ]
    },
    {
      "cell_type": "markdown",
      "metadata": {},
      "source": [
        "**Escriu un analisis del plot explicant que visualitzes i quina informació pots extreure d'aquestes dades.**"
      ]
    },
    {
      "cell_type": "markdown",
      "metadata": {},
      "source": [
        "Aqui la vostra resposta"
      ]
    },
    {
      "cell_type": "markdown",
      "metadata": {
        "id": "qAXWHcICDdq5"
      },
      "source": [
        "### Matriz de correlación"
      ]
    },
    {
      "cell_type": "code",
      "execution_count": null,
      "metadata": {
        "colab": {
          "base_uri": "https://localhost:8080/",
          "height": 686
        },
        "id": "LzTyIMnVDjjL",
        "outputId": "712796f5-5534-480b-cad6-227490739269"
      },
      "outputs": [],
      "source": [
        "values = data.corr()\n",
        "plt.figure(figsize=(20, 15))\n",
        "sns.heatmap(values, annot=True, cmap='coolwarm', linewidths=.5)\n",
        "\n",
        "plt.show()"
      ]
    },
    {
      "cell_type": "markdown",
      "metadata": {
        "id": "trWyJr2-xZTM"
      },
      "source": [
        "**Explica aqui les primeres conclusions inicials**\n"
      ]
    },
    {
      "cell_type": "markdown",
      "metadata": {},
      "source": [
        "Aqui la teva resposta"
      ]
    },
    {
      "cell_type": "markdown",
      "metadata": {
        "id": "c3obouU_FM5F"
      },
      "source": [
        "## Preparación de les dades i entrenament dels models"
      ]
    },
    {
      "cell_type": "code",
      "execution_count": null,
      "metadata": {
        "colab": {
          "base_uri": "https://localhost:8080/",
          "height": 226
        },
        "id": "VB7KZgesxYz7",
        "outputId": "57695bc8-293f-4064-eba3-67209f6b0b03"
      },
      "outputs": [],
      "source": [
        "# escriu el codi per normalitzar les dades\n"
      ]
    },
    {
      "cell_type": "markdown",
      "metadata": {
        "id": "8VZfJ9MLGTGB"
      },
      "source": [
        "Si ho consideres adient pots eliminar les files que tenen valors faltants. Si ho fas hauràs de justificar quin impacte té sobre el conjunt de les dades. Si no indicau comentant les dues línies."
      ]
    },
    {
      "cell_type": "code",
      "execution_count": null,
      "metadata": {
        "colab": {
          "base_uri": "https://localhost:8080/"
        },
        "id": "gRs30vh0HieH",
        "outputId": "a13d69ff-ce0f-4cf7-a886-0dd23c8fd2b4"
      },
      "outputs": [],
      "source": [
        "data_cleaned = data.dropna()\n",
        "data_cleaned = data_cleaned.dropna(axis=1)\n"
      ]
    },
    {
      "cell_type": "markdown",
      "metadata": {},
      "source": [
        "Escriu aqui si has eliminat i fet servir les dues instruccions d'adalt com ha quedat el dataset. "
      ]
    },
    {
      "cell_type": "markdown",
      "metadata": {},
      "source": [
        "A sota trobaréu un sistema que imputa els valors faltants."
      ]
    },
    {
      "cell_type": "markdown",
      "metadata": {
        "id": "OMNgBXryLXw_"
      },
      "source": [
        "### Imputació de valors"
      ]
    },
    {
      "cell_type": "code",
      "execution_count": null,
      "metadata": {
        "colab": {
          "base_uri": "https://localhost:8080/"
        },
        "id": "CY-CrpNvLcFp",
        "outputId": "4a7d067b-ff3f-41b3-9301-7977f3d57806"
      },
      "outputs": [],
      "source": [
        "imputer = KNNImputer(n_neighbors=5)\n",
        "data_filled = imputer.fit_transform(data)\n",
        "data_filled = pd.DataFrame(data_filled, columns=data.columns)\n",
        "missing_inspection(data_filled)\n",
        "len(data_filled)"
      ]
    },
    {
      "cell_type": "markdown",
      "metadata": {},
      "source": [
        "**Que fa el codi de sobre i que analitza posteriorment?** Descriu-lo breument i justifica el perquè pot ser útil. "
      ]
    },
    {
      "cell_type": "markdown",
      "metadata": {
        "id": "y7V3TBS9Jtia"
      },
      "source": [
        "Aquí la teva resposta. Podeu fer servir per exemple per justificar plotejar la correlació  de les variables i com aquestes han variat segons si heu imputat valors o heu eliminat. "
      ]
    },
    {
      "cell_type": "code",
      "execution_count": null,
      "metadata": {
        "colab": {
          "base_uri": "https://localhost:8080/",
          "height": 2016
        },
        "id": "Orl6aS6bMdfp",
        "outputId": "42cd3fbc-8eba-4d1f-bc7c-7c1054f238d2"
      },
      "outputs": [],
      "source": [
        "values = data.corr()\n",
        "plt.figure(figsize=(20, 15))\n",
        "sns.heatmap(values, annot=True, cmap='coolwarm', linewidths=.5)\n",
        "plt.title('Correlación - DataFrame Original')  # Añade el título aquí\n",
        "plt.show()\n"
      ]
    },
    {
      "cell_type": "markdown",
      "metadata": {
        "id": "lfsRnKZiOc1z"
      },
      "source": [
        "Analizando de forma mas sencilla las variaciones en las correlaciones"
      ]
    },
    {
      "cell_type": "markdown",
      "metadata": {
        "id": "rkXgmZ0hQGMU"
      },
      "source": [
        "Podemos observar como cuando se eliminan los **NaN** se pierden muchos valores importantes y las correlaciones descienden muy levemente, mientras que si las rellenamos estas se mantienen estables.\n",
        "\n",
        "Dado que en los modelos de ML cuantos mas datos mejor centraremos nuestros esfuerzos usando el dataset donde se han rellanado los Na."
      ]
    },
    {
      "cell_type": "markdown",
      "metadata": {
        "id": "htSoSHZvQq4p"
      },
      "source": [
        "### Preparació del dataset de entrenamient, validació i test"
      ]
    },
    {
      "cell_type": "code",
      "execution_count": null,
      "metadata": {
        "colab": {
          "base_uri": "https://localhost:8080/",
          "height": 226
        },
        "id": "KlZYj8L-F6LO",
        "outputId": "18219972-fb52-47a0-ccf7-9cd122c31aa9"
      },
      "outputs": [],
      "source": [
        "y_values = data_filled[\"TenYearCHD\"].copy()\n",
        "data_filled.drop(\"TenYearCHD\", axis=1, inplace=True)\n",
        "data_filled.head()"
      ]
    },
    {
      "cell_type": "code",
      "execution_count": null,
      "metadata": {
        "colab": {
          "base_uri": "https://localhost:8080/"
        },
        "id": "cJfx6HwiQ9Ju",
        "outputId": "403d7079-11c2-45ba-84f2-6f9b9a386ead"
      },
      "outputs": [],
      "source": [
        "# programa aqui la divisió de l'entrenament entre train i test"
      ]
    },
    {
      "cell_type": "markdown",
      "metadata": {
        "id": "KaMFkH8xSkqw"
      },
      "source": [
        "### Knn"
      ]
    },
    {
      "cell_type": "code",
      "execution_count": null,
      "metadata": {
        "id": "SpQ2BrMtRLJu"
      },
      "outputs": [],
      "source": [
        "scores = {}\n",
        "scores_list = []\n",
        "error_list = []\n",
        "k_range = range(1,30, 2)\n",
        "# implementa aqui el teu knn fent servir el KNeighborsClassifier\n"
      ]
    },
    {
      "cell_type": "code",
      "execution_count": null,
      "metadata": {
        "colab": {
          "base_uri": "https://localhost:8080/",
          "height": 980
        },
        "id": "ykyZ6RoTSzk-",
        "outputId": "cf6ef38c-0e9e-420c-8158-5e216e759cc9"
      },
      "outputs": [],
      "source": [
        "\n",
        "plt.plot(range(1,30, 2), scores_list, marker='o', markerfacecolor='red', linestyle='dashed')\n",
        "plt.xlabel(\"Valor de k\")\n",
        "plt.ylabel(\"Accuracy\")\n",
        "plt.show()\n",
        "\n",
        "plt.figure(figsize=(10,6))\n",
        "plt.plot(range(1,30,2),error_list,color='blue', linestyle='dashed',\n",
        "         marker='o',markerfacecolor='red', markersize=10)\n",
        "plt.title('Error Rate vs. K Value')\n",
        "plt.xlabel('K')\n",
        "plt.ylabel('Error Rate')\n",
        "plt.show()\n",
        "print(\"Minimum error: \", round(min(error_list), 3),\"at K =\",error_list.index(min(error_list))*2 +1)\n"
      ]
    },
    {
      "cell_type": "markdown",
      "metadata": {},
      "source": [
        "## Conclusions finals"
      ]
    },
    {
      "cell_type": "markdown",
      "metadata": {},
      "source": [
        "Escriu aqui les teves conclusions finals i digues:\n",
        "* quina k seria la correcta. \n",
        "* eliminaries alguna columna?\n",
        "* Quin altre algoritme provaries?\n",
        "* Has provat amb altres distàncies?\n"
      ]
    }
  ],
  "metadata": {
    "colab": {
      "collapsed_sections": [
        "X0wuYUcdgSVP",
        "8O3BfWoRhYf7",
        "KaMFkH8xSkqw"
      ],
      "provenance": [],
      "toc_visible": true
    },
    "kernelspec": {
      "display_name": "Python 3",
      "name": "python3"
    },
    "language_info": {
      "codemirror_mode": {
        "name": "ipython",
        "version": 3
      },
      "file_extension": ".py",
      "mimetype": "text/x-python",
      "name": "python",
      "nbconvert_exporter": "python",
      "pygments_lexer": "ipython3",
      "version": "3.11.4"
    }
  },
  "nbformat": 4,
  "nbformat_minor": 0
}
