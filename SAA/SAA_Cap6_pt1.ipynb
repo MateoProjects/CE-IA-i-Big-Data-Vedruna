{
 "cells": [
  {
   "cell_type": "markdown",
   "metadata": {},
   "source": [
    "# Introducció als algoritmes genètics\n",
    "\n",
    "**Assignatura** : Sistemes d'aprenentatge automàtic\n",
    "\n",
    "**Professor** : Ramon Mateo Navarro\n",
    "\n",
    "Tutorial extret de: [Towards Data Science](https://medium.com/@Data_Aficionado_1083/genetic-algorithms-optimizing-success-through-evolutionary-computing-f4e7d452084f)"
   ]
  },
  {
   "cell_type": "markdown",
   "metadata": {},
   "source": [
    "## Cas 1: Optimització\n",
    "\n",
    "Per comprendre millor els algoritmes genètics, començarem amb un exemple senzill on el nostre algoritme partirà d'una llista de caràcters i haurà de formar una frase específica que nosaltres definim.\n"
   ]
  },
  {
   "cell_type": "markdown",
   "metadata": {},
   "source": [
    "Definirem primer la població, la probabilitat de que un gen muti, l'objectiu i el valor dels gens."
   ]
  },
  {
   "cell_type": "code",
   "execution_count": null,
   "metadata": {},
   "outputs": [],
   "source": [
    "import random\n",
    "\n",
    "POP_SIZE = 2 \n",
    "MUT_RATE = 0.1\n",
    "TARGET = 'rayan ali'\n",
    "GENES = ' abcdefghijklmnopqrstuvwxyz'"
   ]
  },
  {
   "cell_type": "markdown",
   "metadata": {},
   "source": [
    "Ara definirem una funció que inicialitza els paràmetres i els gens de cada població. "
   ]
  },
  {
   "cell_type": "code",
   "execution_count": null,
   "metadata": {},
   "outputs": [],
   "source": [
    "def initialize_pop(TARGET):\n",
    "  population = list()\n",
    "  tar_len = len(TARGET)\n",
    "\n",
    "  for i in range(POP_SIZE):\n",
    "      temp = list()\n",
    "      for j in range(tar_len):\n",
    "          temp.append(random.choice(GENES))\n",
    "      population.append(temp)\n",
    "\n",
    "  return population"
   ]
  },
  {
   "cell_type": "markdown",
   "metadata": {},
   "source": [
    "Ara definirem la funció de fitness, recordem que és la funció que ens indicarà que tan bé ho ha fet l'individuu."
   ]
  },
  {
   "cell_type": "code",
   "execution_count": null,
   "metadata": {},
   "outputs": [],
   "source": [
    "def fitness_cal(TARGET, chromo_from_pop):\n",
    "  difference = 0\n",
    "  for tar_char, chromo_char in zip(TARGET, chromo_from_pop):\n",
    "      if tar_char != chromo_char:\n",
    "          difference+=1 \n",
    "  return [chromo_from_pop, difference]"
   ]
  },
  {
   "cell_type": "markdown",
   "metadata": {},
   "source": [
    "Com podem veure aquesta funció compara quantes lletres són diferents i retorna el valor del total de caràcters que són diferents."
   ]
  },
  {
   "cell_type": "markdown",
   "metadata": {},
   "source": [
    "Ara implementarem la funció de selecció. Aquesta és la que seleccionarà els millors individus amb els quals crearem la nova generació."
   ]
  },
  {
   "cell_type": "code",
   "execution_count": null,
   "metadata": {},
   "outputs": [],
   "source": [
    "def selection(population, TARGET):\n",
    "  sorted_chromo_pop = sorted(population, key= lambda x: x[1])\n",
    "  return sorted_chromo_pop[:int(0.5*POP_SIZE)]"
   ]
  },
  {
   "cell_type": "markdown",
   "metadata": {},
   "source": [
    "Ara toca la funció de crossover on farem el creauament dels gens de la població"
   ]
  },
  {
   "cell_type": "code",
   "execution_count": null,
   "metadata": {},
   "outputs": [],
   "source": [
    "def crossover(selected_chromo, CHROMO_LEN, population):\n",
    "  offspring_cross = []\n",
    "  for i in range(int(POP_SIZE)):\n",
    "    parent1 = random.choice(selected_chromo)\n",
    "    parent2 = random.choice(population[:int(POP_SIZE*50)])\n",
    "\n",
    "    p1 = parent1[0]\n",
    "    p2 = parent2[0]\n",
    "\n",
    "    crossover_point = random.randint(1, CHROMO_LEN-1)\n",
    "    child =  p1[:crossover_point] + p2[crossover_point:]\n",
    "    offspring_cross.extend([child])\n",
    "  return offspring_cross"
   ]
  },
  {
   "cell_type": "markdown",
   "metadata": {},
   "source": [
    "![](images_w6\\crossover.webp)"
   ]
  },
  {
   "cell_type": "code",
   "execution_count": null,
   "metadata": {},
   "outputs": [],
   "source": [
    "def mutate(offspring, MUT_RATE):\n",
    "  mutated_offspring = []\n",
    "\n",
    "  for arr in offspring:\n",
    "      for i in range(len(arr)):\n",
    "          if random.random() < MUT_RATE:\n",
    "              arr[i] = random.choice(GENES)\n",
    "      mutated_offspring.append(arr)\n",
    "  return mutated_offspring"
   ]
  },
  {
   "cell_type": "markdown",
   "metadata": {},
   "source": [
    "Ara la funció de reemplaçament per reemplaçar la població"
   ]
  },
  {
   "cell_type": "code",
   "execution_count": null,
   "metadata": {},
   "outputs": [],
   "source": [
    "def replace(new_gen, population):\n",
    "  for _ in range(len(population)):\n",
    "      if population[_][1] > new_gen[_][1]:\n",
    "        population[_][0] = new_gen[_][0]\n",
    "        population[_][1] = new_gen[_][1]\n",
    "  return population"
   ]
  },
  {
   "cell_type": "markdown",
   "metadata": {},
   "source": [
    "Si el nostre nou gen té una millor puntuació de fitness (menor), reemplaçarà el cromosoma present a la població inicial, si no, continuarà mantenint el cromosoma antic.\n",
    "\n",
    "Finalment definim la nostre funció Main"
   ]
  },
  {
   "cell_type": "code",
   "execution_count": null,
   "metadata": {},
   "outputs": [],
   "source": [
    "def main(POP_SIZE, MUT_RATE, TARGET, GENES):\n",
    "    # 1) initialize population\n",
    "    initial_population = initialize_pop(TARGET)\n",
    "    found = False\n",
    "    population = []\n",
    "    generation = 1\n",
    "\n",
    "    # 2) Calculating the fitness for the current population\n",
    "    for _ in range(len(initial_population)):\n",
    "        population.append(fitness_cal(TARGET, initial_population[_]))\n",
    "\n",
    "    # now population has 2 things, [chromosome, fitness]\n",
    "    # 3) now we loop until TARGET is found\n",
    "    while not found:\n",
    "\n",
    "      # Seleccionem els millors individuus de la població\n",
    "      selected = selection(population, TARGET)\n",
    "\n",
    "      # ordenem la població pel seu fitness\n",
    "      population = sorted(population, key= lambda x:x[1])\n",
    "      crossovered = crossover(selected, len(TARGET), population)\n",
    "            \n",
    "      # fem la mutació \n",
    "      mutated = mutate(crossovered, MUT_RATE)\n",
    "\n",
    "      new_gen = []\n",
    "      for _ in mutated:\n",
    "          new_gen.append(fitness_cal(TARGET, _))\n",
    "          \n",
    "      population = replace(new_gen, population)\n",
    "\n",
    "      \n",
    "      if (population[0][1] == 0):\n",
    "        print('Target found')\n",
    "        print('String: ' + str(population[0][0]) + ' Generation: ' + str(generation) + ' Fitness: ' + str(population[0][1]))\n",
    "        break\n",
    "      print('String: ' + str(population[0][0]) + ' Generation: ' + str(generation) + ' Fitness: ' + str(population[0][1]))\n",
    "      generation+=1\n",
    "\n",
    "main(POP_SIZE, MUT_RATE, TARGET, GENES)"
   ]
  },
  {
   "cell_type": "code",
   "execution_count": null,
   "metadata": {},
   "outputs": [],
   "source": []
  }
 ],
 "metadata": {
  "kernelspec": {
   "display_name": "Python 3",
   "language": "python",
   "name": "python3"
  },
  "language_info": {
   "codemirror_mode": {
    "name": "ipython",
    "version": 3
   },
   "file_extension": ".py",
   "mimetype": "text/x-python",
   "name": "python",
   "nbconvert_exporter": "python",
   "pygments_lexer": "ipython3",
   "version": "3.11.9"
  }
 },
 "nbformat": 4,
 "nbformat_minor": 2
}
