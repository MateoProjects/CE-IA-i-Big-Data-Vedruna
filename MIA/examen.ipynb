{
 "cells": [
  {
   "cell_type": "markdown",
   "metadata": {},
   "source": [
    "# Examen MIA\n",
    "\n",
    "Nom i cognoms:"
   ]
  },
  {
   "cell_type": "markdown",
   "metadata": {},
   "source": [
    "En aquest examen haureu primer de tot descarregar aquest dataset: https://www.kaggle.com/datasets/likhon148/animal-data. Esta compost de diferentes carpetes. Un possible codi que us ajudi a crear les categories podria ser el següent:"
   ]
  },
  {
   "cell_type": "code",
   "execution_count": null,
   "metadata": {},
   "outputs": [],
   "source": [
    "import os\n",
    "import pandas as pd\n",
    "\n",
    "BASE_PATH = \"on estigui la carpeta principal\"\n",
    "data_entries = []\n",
    "\n",
    "for category in os.listdir(BASE_PATH):\n",
    "    if os.path.isdir(os.path.join(BASE_PATH, category)):\n",
    "        for image_file in os.listdir(os.path.join(BASE_PATH, category)):\n",
    "            full_image_path = os.path.join(BASE_PATH, category, image_file)\n",
    "            data_entries.append((full_image_path, category))\n",
    "\n",
    "\n",
    "data = pd.DataFrame(data_entries, columns=[\"image_path\", \"category\"])"
   ]
  },
  {
   "cell_type": "markdown",
   "metadata": {},
   "source": [
    "Us heu de asegurar que funciona. Un cop sapigueu que funciona intenteu carregar totes les imatges i mostrar-ne algunes per pantalla. \n",
    "\n",
    "**Ex1**: Mostreu el dataset amb els paths i les categories de cada imatge. "
   ]
  },
  {
   "cell_type": "code",
   "execution_count": null,
   "metadata": {},
   "outputs": [],
   "source": []
  },
  {
   "cell_type": "markdown",
   "metadata": {},
   "source": [
    "**Ex2**: Mostreu algunes imatges fent servir matplotlib"
   ]
  },
  {
   "cell_type": "code",
   "execution_count": null,
   "metadata": {},
   "outputs": [],
   "source": []
  },
  {
   "cell_type": "markdown",
   "metadata": {},
   "source": [
    "**Ex3**: Feu la separació de les dades en Train, Val i test\n",
    "\n",
    "Nota: Recordeu que poden ser o categories o estar fetes en one hot econding les categories de cada imatge"
   ]
  },
  {
   "cell_type": "markdown",
   "metadata": {},
   "source": []
  },
  {
   "cell_type": "markdown",
   "metadata": {},
   "source": [
    "**Ex4**: Implementeu una xarxa CNN basada en la arquítectura VGG16 que conté el següent:\n",
    "* Capa Conv2D - 64 filtros de 3x3, activación ReLU\n",
    "* Capa Conv2D - 64 filtros de 3x3, activación ReLU\n",
    "* Capa MaxPooling - pool size 2x2, stride 2\n",
    "* Capa Conv2D - 128 filtros de 3x3, activación ReLU\n",
    "* Capa Conv2D - 128 filtros de 3x3, activación ReLU\n",
    "* Capa MaxPooling - pool size 2x2, stride 2\n",
    "* Capa Conv2D - 256 filtros de 3x3, activación ReLU\n",
    "* Capa Conv2D - 256 filtros de 3x3, activación ReLU\n",
    "* Capa Conv2D - 256 filtros de 3x3, activación ReLU\n",
    "* Capa MaxPooling - pool size 2x2, stride 2\n",
    "* Capa Conv2D - 512 filtros de 3x3, activación ReLU\n",
    "* Capa Conv2D - 512 filtros de 3x3, activación ReLU\n",
    "* Capa Conv2D - 512 filtros de 3x3, activación ReLU\n",
    "* Capa MaxPooling - pool size 2x2, stride 2\n",
    "* Capa Conv2D - 512 filtros de 3x3, activación ReLU\n",
    "* Capa Conv2D - 512 filtros de 3x3, activación ReLU\n",
    "* Capa Conv2D - 512 filtros de 3x3, activación ReLU\n",
    "* Capa MaxPooling - pool size 2x2, stride 2\n",
    "__________________________________________\n",
    "\n",
    "* Capa Flatten - Aplana la entrada para pasar de las capas convolucionales a las densas\n",
    "* Capa Dense - 4096 unidades, activación ReLU\n",
    "* Capa Dropout - Suele utilizarse para regularización durante el entrenamiento\n",
    "* Capa Dense - 4096 unidades, activación ReLU\n",
    "* Capa Dropout - Regularización durante el entrenamiento\n",
    "* Capa Dense - Número de unidades igual al número de clases, activación softmax para clasificación\n",
    "\n",
    "\n",
    "**Nota**: Podeu ajustar las neurones de les capas Dense únicament"
   ]
  },
  {
   "cell_type": "code",
   "execution_count": null,
   "metadata": {},
   "outputs": [],
   "source": []
  },
  {
   "cell_type": "markdown",
   "metadata": {},
   "source": [
    "**Ex 5**: Feu el model.summary() del model. "
   ]
  },
  {
   "cell_type": "code",
   "execution_count": null,
   "metadata": {},
   "outputs": [],
   "source": []
  },
  {
   "cell_type": "markdown",
   "metadata": {},
   "source": [
    "**Ex 6**: Entreneu el model fent servir la funció de pèrdua *categorical_crossentropy* o *sparse_categorical_crossentropy*. Com a OPT feu servir Adam amb un **lr** de 0.001"
   ]
  },
  {
   "cell_type": "code",
   "execution_count": null,
   "metadata": {},
   "outputs": [],
   "source": []
  },
  {
   "cell_type": "markdown",
   "metadata": {},
   "source": [
    "**Ex7**: Mostreu les gràfiques de l'entrenament"
   ]
  },
  {
   "cell_type": "code",
   "execution_count": null,
   "metadata": {},
   "outputs": [],
   "source": []
  },
  {
   "cell_type": "markdown",
   "metadata": {},
   "source": [
    "**Ex 8**: Avalueu el model fent servir el model.evaluate()"
   ]
  },
  {
   "cell_type": "markdown",
   "metadata": {},
   "source": []
  },
  {
   "cell_type": "markdown",
   "metadata": {},
   "source": [
    "La vostra nota sobre els exercicis on el model és entrenat i avaluat es basarà en el fet que tan bé ho ha fet. Per això haureu d'ajustar paràmetres com les neurones de les capes denses, LR, BatchSize i Epochs.\n",
    "\n",
    "Per cada una de les proves haureu de deixar constància amb el evaluate indicant els paràmetres d'aquell entrenament.\n",
    "És a dir per cada cop que executeu el model.evaluate creeu una nova cel·la de codi indicant els paràmetres emprats en aquell entrenament i el resultats obtinguts amb el test."
   ]
  },
  {
   "cell_type": "markdown",
   "metadata": {},
   "source": []
  }
 ],
 "metadata": {
  "language_info": {
   "name": "python"
  }
 },
 "nbformat": 4,
 "nbformat_minor": 2
}
