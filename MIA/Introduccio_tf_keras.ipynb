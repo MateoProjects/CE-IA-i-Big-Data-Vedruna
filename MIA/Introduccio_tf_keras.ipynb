{
 "cells": [
  {
   "cell_type": "markdown",
   "metadata": {},
   "source": [
    "# Introducció a Tensorflow/Keras\n",
    "\n",
    "**Assignatura**: Models d'intel·ligència artificial\n",
    "\n",
    "**Professor** : Ramon Mateo Navarro\n",
    "\n",
    "En aquest notebook farem una introducció a Tensorflow/keras. Aprendrem les bases per crear la nostra primera xarxa neuronal fent servir el dataset MNIST."
   ]
  },
  {
   "cell_type": "markdown",
   "metadata": {},
   "source": [
    "## Imports"
   ]
  },
  {
   "cell_type": "code",
   "execution_count": null,
   "metadata": {},
   "outputs": [],
   "source": [
    "import tensorflow as tf\n",
    "import numpy as np\n",
    "import matplotlib.pyplot as plt\n",
    "from tensorflow import keras\n",
    "from keras.models import Sequential\n",
    "from keras import layers\n",
    "\n",
    "\n"
   ]
  },
  {
   "cell_type": "markdown",
   "metadata": {},
   "source": [
    "## Carrega i exploració de les dades"
   ]
  },
  {
   "cell_type": "markdown",
   "metadata": {},
   "source": [
    "Farem la càrrega primer de les dades i les explorarem per veure que tenim abans de començar a configurar la nostra xarxa neuronal."
   ]
  },
  {
   "cell_type": "code",
   "execution_count": null,
   "metadata": {},
   "outputs": [],
   "source": [
    "data = keras.datasets.fashion_mnist\n",
    "(train_images, train_labels), (test_images, test_labels) = data.load_data()\n",
    "labels = ['Playera', 'Pantalón', 'Suéter', 'Vestido', 'Abrigo', 'Sandalia', 'Camisa', 'Tenis', 'Bolso', 'Botas']\n",
    "plt.imshow(train_images[0], cmap='gray')\n",
    "plt.show()\n",
    "print(train_images[0])\n",
    "print(train_images.shape)"
   ]
  },
  {
   "cell_type": "markdown",
   "metadata": {},
   "source": [
    "A la cel·la anterior hem mostrat:\n",
    "\n",
    "1. Primer l'imatge per veure quin aspecte tenen les nostres imatges.\n",
    "2. La matriu de l'imatge per veure com aquesta és codificada. Observem que està en valors de 0 a 255. \n",
    "\n",
    "Una bona pràctictica és normalitza els valors.\n",
    "\n",
    "**Nota**: Normalitzar els valors significa ajustar els valors d'una variable o conjunt de variables perquè estiguin en una escala específica o rang. Això implica transformar els valors d'entrada perquè estiguin centrats al voltant de zero i tinguin una desviació estàndard d'aproximadament un.\n",
    "\n",
    "En el context de l'aprenentatge automàtic, normalitzar les dades és una pràctica comuna per millorar el rendiment del model. Aquest procés ajuda a evitar que les característiques amb rangs molt diferents dominin l'entrenament del model, i fa que l'entrenament sigui més estable i convergeixi més ràpidament. A més, molts algoritmes d'aprenentatge automàtic funcionen millor quan les dades estan normalitzades. "
   ]
  },
  {
   "cell_type": "markdown",
   "metadata": {},
   "source": [
    "### Normalització de les dades"
   ]
  },
  {
   "cell_type": "code",
   "execution_count": null,
   "metadata": {},
   "outputs": [],
   "source": [
    "train_images = train_images / 255\n",
    "test_images =  test_images / 255\n",
    "\n",
    "values, count = np.unique(train_images, return_counts=True)\n",
    "values"
   ]
  },
  {
   "cell_type": "markdown",
   "metadata": {},
   "source": [
    "## Creació del model"
   ]
  },
  {
   "cell_type": "markdown",
   "metadata": {},
   "source": [
    "Nosaltres el que farem per aquesta pràctica és un model sequencial. Això vol dir que tindrem una capa rere altre. \n",
    "\n",
    "En aquest exercici, farem servir xarxes neuronals per processar una imatge. Cal tenir present que les xarxes neuronals no estan dissenyades per a imatges que son vectors de 2 dimensions, si no més bé d'una dimensió, així que el primer pas és aplanar-les, convertint-les en un vector d'una sola dimensió.\n",
    "\n",
    "**Nota**: Les xarxes expertes en imatge són les xarxes neuronals convolucionals o CNN per les seves sigles en anglès."
   ]
  },
  {
   "cell_type": "code",
   "execution_count": null,
   "metadata": {},
   "outputs": [],
   "source": [
    "model = Sequential()\n",
    "model.add(layers.Flatten(input_shape=(28, 28)))\n",
    "model.add(layers.Dense(128, activation='relu'))\n",
    "model.add(layers.Dense(10, activation='softmax'))\n",
    "model.summary()"
   ]
  },
  {
   "cell_type": "markdown",
   "metadata": {},
   "source": [
    "Cridant la funció \"summary\" del model, puc observar tots els paràmetres que té i tindrà el model juntament amb les seves capes. Cada paràmetre consisteix en valors que han de ser entrenats i descoberts per tal d'assolir l'objectiu de classificar correctament.\n",
    "\n",
    "Ara toca compilar el model. Aquí definirem la funció de pèrdua. El optimitzador i les mètriques que volem veure i calcular durant l'entrenament.\n",
    "\n",
    "Per declarar l'optimitzador i les funcions de perdua tenim dues formes de fer-ho que es mostren a continuació.\n",
    "\n",
    "\n",
    "\n",
    "\n",
    "\n"
   ]
  },
  {
   "cell_type": "markdown",
   "metadata": {},
   "source": [
    "### Opció 1: Indicant amb string"
   ]
  },
  {
   "cell_type": "code",
   "execution_count": null,
   "metadata": {},
   "outputs": [],
   "source": [
    "model.compile(optimizer='adam', loss='sparse_categorical_crossentropy', metrics=['accuracy'])\n"
   ]
  },
  {
   "cell_type": "markdown",
   "metadata": {},
   "source": [
    "En aquesta versió l'optimitzador i la funció de pèrdua s'especifica com a string. És a dir escrivim quin volem. \n",
    "\n",
    "Per a més informació sobre els optimitzadors i strings acceptats consulteu:\n",
    "* [Funció compile](https://www.tensorflow.org/api_docs/python/tf/keras/Model#compile)\n",
    "* [Funcions de pèrdua](https://www.tensorflow.org/api_docs/python/tf/keras/losses)\n",
    "* [Optimitzadors](https://www.tensorflow.org/api_docs/python/tf/keras/optimizers)"
   ]
  },
  {
   "cell_type": "markdown",
   "metadata": {},
   "source": [
    "### Opció 2: Passant com a objectes\n",
    "\n"
   ]
  },
  {
   "cell_type": "code",
   "execution_count": null,
   "metadata": {},
   "outputs": [],
   "source": [
    "## Exemples: \n",
    "adam_optimizer = keras.optimizers.Adam(learning_rate=0.001)\n",
    "# or\n",
    "sgd_optimizer = keras.optimizers.SGD(learning_rate=0.001)\n",
    "model.compile(optimizer=adam_optimizer, loss='sparse_categorical_crossentropy', metrics=['accuracy',])\n"
   ]
  },
  {
   "cell_type": "markdown",
   "metadata": {},
   "source": [
    "Aquesta opció ofereix més personalització. Cal recordar que un optimitzador té com a paràmetres la taxa d'aprenentatge, entre altres. Si cridem l'objecte, podem modificar aquest paràmetre, entre molts altres. El mateix passa amb la funció de pèrdua, la qual ens permet ajustar valors concrets. Fent servir l'opció 1, s'assignen uns valors per defecte. Amb aquesta opció, guanyem la capacitat de modificar-los i, per tant, tenim més control sobre com s'està entrenant el nostre model.\n"
   ]
  },
  {
   "cell_type": "markdown",
   "metadata": {},
   "source": [
    "## Entrenant el model\n",
    "\n",
    "Per entrenar el model únicament cal cridar a la funció \"fit\". Aquesta rep com a paràmetres la X i la Y, més endavant estudiarem altres paràmetres d'entrada que podem afegir per personalitzar encara més el nostre entrenament. \n",
    "\n",
    "La funció \"fit\" retorna un historial de l'evolució per cada epoca de l'entrenament i les mètriques que nosaltres li haguem indicat. "
   ]
  },
  {
   "cell_type": "code",
   "execution_count": null,
   "metadata": {},
   "outputs": [],
   "source": [
    "\n",
    "mdl_fit = model.fit(train_images, train_labels, epochs=10)\n"
   ]
  },
  {
   "cell_type": "markdown",
   "metadata": {},
   "source": [
    "## Evaluant l'entrenament\n",
    "\n",
    "Gràcies a haver guardat l'entrenament ara podem observar en més deteniment com ha evolucionat el nostre entrenament i procedir ajustar el model. Per fer-ho es plotejan les dades de l'evolució de la funció de perdua i la precisió"
   ]
  },
  {
   "cell_type": "code",
   "execution_count": null,
   "metadata": {},
   "outputs": [],
   "source": [
    "plt.plot(mdl_fit.history['loss'], label='train loss')\n",
    "plt.legend()\n",
    "plt.show()\n",
    "# plot the accuracy\n",
    "plt.plot(mdl_fit.history['accuracy'], label='train acc')\n",
    "plt.legend()\n",
    "plt.show()"
   ]
  },
  {
   "cell_type": "markdown",
   "metadata": {},
   "source": [
    "**Què en podem extreure d'aquí?**\n",
    "\n",
    "És possible que observeu com en l'última època no s'ha aconseguit la màxima precisió ni el mínim en la funció de pèrdua. En realitat, els mínims en la funció de pèrdua i els màxims de precisió podrien haver-se trobat en èpoques anteriors, però com el model no ha estat configurat per guardar-ho, només mantindrà la darrera època.\n",
    "\n",
    "En la següent classe veurem com arreglar aquest petit problema afegint els \"callbacks\" entre altres funcions i paràmetres que permetran configurar encara més l'entrenament del nostre model."
   ]
  },
  {
   "cell_type": "markdown",
   "metadata": {},
   "source": [
    "## Evaluant el model\n",
    "\n",
    "Ara podem avaluar el model. Per fer-ho, passem les imatges que hem reservat per a les proves. És important recordar que aquestes imatges no han estat utilitzades durant l'entrenament del model, per tant, amb això podrem avaluar quan de bé funciona el model.\n",
    "\n",
    "\n",
    "\n",
    "\n"
   ]
  },
  {
   "cell_type": "code",
   "execution_count": null,
   "metadata": {},
   "outputs": [],
   "source": [
    "model.evaluate(test_images, test_labels)\n"
   ]
  },
  {
   "cell_type": "markdown",
   "metadata": {},
   "source": [
    "Si volgues predir una única imatge puc fer el següent:"
   ]
  },
  {
   "cell_type": "code",
   "execution_count": null,
   "metadata": {},
   "outputs": [],
   "source": [
    "input_data = np.expand_dims(test_images[0], axis=0)\n",
    "prediction = model.predict(input_data)\n",
    "# argmax retorna el index de l'array on es troba el maxim. \n",
    "print(\"El model prediu que l'imatge té el label:\", np.argmax(prediction))\n",
    "print(\"El label correcte és:\", test_labels[0])\n"
   ]
  },
  {
   "cell_type": "markdown",
   "metadata": {},
   "source": [
    "Com a exercici proveu d'afegir noves capes, canviar el número d'èpoques del model.\n",
    "\n",
    "Coses que heu de provar:\n",
    "\n",
    "* Que passa si entreno el model amb 20 - 50 epochs?\n",
    "* Recordeu el batch size? Que pasa si el defineixo?\n",
    "\n",
    "**Nota**: El batch_size es posa com a paràmetre en la funció fit."
   ]
  },
  {
   "cell_type": "code",
   "execution_count": null,
   "metadata": {},
   "outputs": [],
   "source": [
    "test_images[0].shape"
   ]
  },
  {
   "cell_type": "code",
   "execution_count": null,
   "metadata": {},
   "outputs": [],
   "source": []
  }
 ],
 "metadata": {
  "kernelspec": {
   "display_name": "Python 3",
   "language": "python",
   "name": "python3"
  },
  "language_info": {
   "codemirror_mode": {
    "name": "ipython",
    "version": 3
   },
   "file_extension": ".py",
   "mimetype": "text/x-python",
   "name": "python",
   "nbconvert_exporter": "python",
   "pygments_lexer": "ipython3",
   "version": "3.11.9"
  }
 },
 "nbformat": 4,
 "nbformat_minor": 2
}
